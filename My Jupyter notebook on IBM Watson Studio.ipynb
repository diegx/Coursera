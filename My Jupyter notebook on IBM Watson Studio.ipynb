{
    "cells": [
        {
            "cell_type": "markdown",
            "metadata": {
                "collapsed": true
            },
            "source": "# My Jupyter Notebook on IBM Watson Studio"
        },
        {
            "cell_type": "markdown",
            "metadata": {},
            "source": "**Diego Vi\u017eintin**\n\nStudent"
        },
        {
            "cell_type": "markdown",
            "metadata": {},
            "source": "*I am a law student in Croatia. I am interested in how can data science be applied to the legal profession. Can it be used to see how a particular type of case will fair in particular circumstances ?*  *Can it be used to see if a judge would receive a legal argument better than another? What are the differences in case outcomes in different counties for similar cases? Can the outcome of a case be predicted?*"
        },
        {
            "cell_type": "markdown",
            "metadata": {},
            "source": "### The following code should when you input your name say Hello, _________________."
        },
        {
            "cell_type": "code",
            "execution_count": null,
            "metadata": {
                "scrolled": false
            },
            "outputs": [],
            "source": "name = input('What is your name?\\n')\nprint ('Hello, %s.' % name)"
        },
        {
            "cell_type": "markdown",
            "metadata": {},
            "source": "- a                                                             \n- b         \n- c        \n- d         \n- f        \n\n\n|No.| Something   | Word | Class | Tag | \n|---:|:-------------|:-----------|:------|:------| \n| 1 | Element: 1 | Norm | 12.3 | O | \n| 2 | Element: 2 | Criminal | 100.8 | C1 |\n\n\n\n\n[Google](http://www.google.com)"
        }
    ],
    "metadata": {
        "kernelspec": {
            "display_name": "Python 3.7",
            "language": "python",
            "name": "python3"
        },
        "language_info": {
            "codemirror_mode": {
                "name": "ipython",
                "version": 3
            },
            "file_extension": ".py",
            "mimetype": "text/x-python",
            "name": "python",
            "nbconvert_exporter": "python",
            "pygments_lexer": "ipython3",
            "version": "3.7.9"
        }
    },
    "nbformat": 4,
    "nbformat_minor": 1
}